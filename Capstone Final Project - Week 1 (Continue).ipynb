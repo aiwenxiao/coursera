{
    "nbformat_minor": 1, 
    "cells": [
        {
            "source": "## The Battle of Neighborhoods - Data Selection (Week 1)\u00b6", 
            "cell_type": "markdown", 
            "metadata": {
                "collapsed": true
            }
        }, 
        {
            "source": "With the considerations presented in the previous section, the data we are interested in are as following:\n\n- The localities of Haut-de-Seine from [Wikipedia](https://fr.wikipedia.org/wiki/Hauts-de-Seine)\n- The coordinates from Open Street Map APIs\n<br/><br/>\nThese are the base information we will need to pass to Foursqure API for further analysis\n<br/><br/>\n- Number of residents from [Wikipedia](https://fr.wikipedia.org/wiki/Hauts-de-Seine)\n- The office and school venues from Foursqure API\n- The Incoming Level from [Wikipedia](https://fr.wikipedia.org/wiki/Hauts-de-Seine)\n<br/><br/>\nAs our target market is the local people living, studing and working in the surrondings, who would buy high-quality food, we should take into account of the above data to ensure that we could have sufficiant potential customers.\n<br/><br/>\n- The bakery venues from Foursqure API <br/>\n<br/><br/>\nThis is essential to check the number of competitors in the area.", 
            "cell_type": "markdown", 
            "metadata": {}
        }, 
        {
            "execution_count": null, 
            "cell_type": "code", 
            "metadata": {}, 
            "outputs": [], 
            "source": ""
        }
    ], 
    "metadata": {
        "kernelspec": {
            "display_name": "Python 3.5", 
            "name": "python3", 
            "language": "python"
        }, 
        "language_info": {
            "mimetype": "text/x-python", 
            "nbconvert_exporter": "python", 
            "version": "3.5.5", 
            "name": "python", 
            "file_extension": ".py", 
            "pygments_lexer": "ipython3", 
            "codemirror_mode": {
                "version": 3, 
                "name": "ipython"
            }
        }
    }, 
    "nbformat": 4
}