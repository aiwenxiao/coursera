{
    "nbformat_minor": 1, 
    "cells": [
        {
            "source": "## The Battle of Neighborhoods - Data Selection (Week 1)\u00b6", 
            "cell_type": "markdown", 
            "metadata": {
                "collapsed": true
            }
        }, 
        {
            "source": "With the considerations presented in the previous section, the data we are interested in are as following:\n\n- The localities of Haut-de-Seine from [Wikipedia](https://fr.wikipedia.org/wiki/Hauts-de-Seine)\n- The coordinates from Open Street Map APIs\n<br/>\nThese are the base information we will need to pass to Foursqure API for further analysis\n<br/><br/>\n- Number of residents from [Wikipedia](https://fr.wikipedia.org/wiki/Hauts-de-Seine)\n- The office and school venues from Foursqure API\n- The Incoming Level from [Wikipedia](https://fr.wikipedia.org/wiki/Hauts-de-Seine)\n<br/>\nAs our target market is the local people living, studing and working in the surrondings, who would buy high-quality food, we should take into account of the above data to ensure that we could have sufficiant potential customers.\n<br/><br/>\n- The bakery venues from Foursqure API\n<br/>\nThis is essential to check the number of competitors in the area.", 
            "cell_type": "markdown", 
            "metadata": {}
        }, 
        {
            "source": "For example, here are the dataframe processed with the Wikipedia information:", 
            "cell_type": "markdown", 
            "metadata": {}
        }, 
        {
            "execution_count": 2, 
            "cell_type": "code", 
            "metadata": {}, 
            "outputs": [], 
            "source": "# The code was removed by Watson Studio for sharing."
        }, 
        {
            "execution_count": 5, 
            "cell_type": "code", 
            "metadata": {}, 
            "outputs": [
                {
                    "execution_count": 5, 
                    "metadata": {}, 
                    "data": {
                        "text/html": "<div>\n<style scoped>\n    .dataframe tbody tr th:only-of-type {\n        vertical-align: middle;\n    }\n\n    .dataframe tbody tr th {\n        vertical-align: top;\n    }\n\n    .dataframe thead th {\n        text-align: right;\n    }\n</style>\n<table border=\"1\" class=\"dataframe\">\n  <thead>\n    <tr style=\"text-align: right;\">\n      <th></th>\n      <th>Postal Code</th>\n      <th>Neighbourhood</th>\n      <th>Resident Number</th>\n      <th>Incoming</th>\n      <th>Latitude</th>\n      <th>Longitude</th>\n    </tr>\n  </thead>\n  <tbody>\n    <tr>\n      <th>0</th>\n      <td>92002</td>\n      <td>Antony</td>\n      <td>61711</td>\n      <td>43464</td>\n      <td>48.753554</td>\n      <td>2.295942</td>\n    </tr>\n    <tr>\n      <th>1</th>\n      <td>92004</td>\n      <td>Asni\u00e8res-sur-Seine</td>\n      <td>86512</td>\n      <td>33939</td>\n      <td>48.910595</td>\n      <td>2.289045</td>\n    </tr>\n    <tr>\n      <th>2</th>\n      <td>92007</td>\n      <td>Bagneux</td>\n      <td>39487</td>\n      <td>28286</td>\n      <td>47.240726</td>\n      <td>-0.099050</td>\n    </tr>\n    <tr>\n      <th>3</th>\n      <td>92009</td>\n      <td>Bois-Colombes</td>\n      <td>28043</td>\n      <td>37353</td>\n      <td>48.914827</td>\n      <td>2.267489</td>\n    </tr>\n    <tr>\n      <th>4</th>\n      <td>92012</td>\n      <td>Boulogne-Billancourt</td>\n      <td>117931</td>\n      <td>40416</td>\n      <td>48.835665</td>\n      <td>2.240206</td>\n    </tr>\n  </tbody>\n</table>\n</div>", 
                        "text/plain": "   Postal Code         Neighbourhood  Resident Number  Incoming   Latitude  \\\n0        92002                Antony            61711     43464  48.753554   \n1        92004    Asni\u00e8res-sur-Seine            86512     33939  48.910595   \n2        92007               Bagneux            39487     28286  47.240726   \n3        92009         Bois-Colombes            28043     37353  48.914827   \n4        92012  Boulogne-Billancourt           117931     40416  48.835665   \n\n   Longitude  \n0   2.295942  \n1   2.289045  \n2  -0.099050  \n3   2.267489  \n4   2.240206  "
                    }, 
                    "output_type": "execute_result"
                }
            ], 
            "source": "import pandas as pd\ndf = pd.read_csv(project.get_file('Haut-de-Seine.csv'))\ndf.head(5)"
        }, 
        {
            "source": "We can sort the table using the Resident Number to find the neighbourhood that contains the most local residents:", 
            "cell_type": "markdown", 
            "metadata": {}
        }, 
        {
            "execution_count": 7, 
            "cell_type": "code", 
            "metadata": {}, 
            "outputs": [
                {
                    "execution_count": 7, 
                    "metadata": {}, 
                    "data": {
                        "text/html": "<div>\n<style scoped>\n    .dataframe tbody tr th:only-of-type {\n        vertical-align: middle;\n    }\n\n    .dataframe tbody tr th {\n        vertical-align: top;\n    }\n\n    .dataframe thead th {\n        text-align: right;\n    }\n</style>\n<table border=\"1\" class=\"dataframe\">\n  <thead>\n    <tr style=\"text-align: right;\">\n      <th></th>\n      <th>Postal Code</th>\n      <th>Neighbourhood</th>\n      <th>Resident Number</th>\n      <th>Incoming</th>\n      <th>Latitude</th>\n      <th>Longitude</th>\n    </tr>\n  </thead>\n  <tbody>\n    <tr>\n      <th>4</th>\n      <td>92012</td>\n      <td>Boulogne-Billancourt</td>\n      <td>117931</td>\n      <td>40416</td>\n      <td>48.835665</td>\n      <td>2.240206</td>\n    </tr>\n    <tr>\n      <th>24</th>\n      <td>92051</td>\n      <td>Nanterre</td>\n      <td>93742</td>\n      <td>28730</td>\n      <td>48.892427</td>\n      <td>2.207127</td>\n    </tr>\n    <tr>\n      <th>1</th>\n      <td>92004</td>\n      <td>Asni\u00e8res-sur-Seine</td>\n      <td>86512</td>\n      <td>33939</td>\n      <td>48.910595</td>\n      <td>2.289045</td>\n    </tr>\n    <tr>\n      <th>11</th>\n      <td>92025</td>\n      <td>Colombes</td>\n      <td>85199</td>\n      <td>31622</td>\n      <td>48.922788</td>\n      <td>2.254358</td>\n    </tr>\n    <tr>\n      <th>12</th>\n      <td>92026</td>\n      <td>Courbevoie</td>\n      <td>83136</td>\n      <td>40337</td>\n      <td>48.895333</td>\n      <td>2.256160</td>\n    </tr>\n  </tbody>\n</table>\n</div>", 
                        "text/plain": "    Postal Code         Neighbourhood  Resident Number  Incoming   Latitude  \\\n4         92012  Boulogne-Billancourt           117931     40416  48.835665   \n24        92051              Nanterre            93742     28730  48.892427   \n1         92004    Asni\u00e8res-sur-Seine            86512     33939  48.910595   \n11        92025              Colombes            85199     31622  48.922788   \n12        92026            Courbevoie            83136     40337  48.895333   \n\n    Longitude  \n4    2.240206  \n24   2.207127  \n1    2.289045  \n11   2.254358  \n12   2.256160  "
                    }, 
                    "output_type": "execute_result"
                }
            ], 
            "source": "df.sort_values(by=\"Resident Number\", ascending=False).head(5)"
        }, 
        {
            "source": "We can also sort the table using the Incoming to find the neighbourhood whose residents have probably the best purchasing power.", 
            "cell_type": "markdown", 
            "metadata": {}
        }, 
        {
            "execution_count": 8, 
            "cell_type": "code", 
            "metadata": {}, 
            "outputs": [
                {
                    "execution_count": 8, 
                    "metadata": {}, 
                    "data": {
                        "text/html": "<div>\n<style scoped>\n    .dataframe tbody tr th:only-of-type {\n        vertical-align: middle;\n    }\n\n    .dataframe tbody tr th {\n        vertical-align: top;\n    }\n\n    .dataframe thead th {\n        text-align: right;\n    }\n</style>\n<table border=\"1\" class=\"dataframe\">\n  <thead>\n    <tr style=\"text-align: right;\">\n      <th></th>\n      <th>Postal Code</th>\n      <th>Neighbourhood</th>\n      <th>Resident Number</th>\n      <th>Incoming</th>\n      <th>Latitude</th>\n      <th>Longitude</th>\n    </tr>\n  </thead>\n  <tbody>\n    <tr>\n      <th>21</th>\n      <td>92048</td>\n      <td>Marnes-la-Coquette</td>\n      <td>1751</td>\n      <td>80327</td>\n      <td>48.829358</td>\n      <td>2.175609</td>\n    </tr>\n    <tr>\n      <th>33</th>\n      <td>92076</td>\n      <td>Vaucresson</td>\n      <td>8688</td>\n      <td>61973</td>\n      <td>48.839268</td>\n      <td>2.157598</td>\n    </tr>\n    <tr>\n      <th>25</th>\n      <td>92060</td>\n      <td>Neuilly-sur-Seine</td>\n      <td>60910</td>\n      <td>57830</td>\n      <td>48.884683</td>\n      <td>2.269566</td>\n    </tr>\n    <tr>\n      <th>34</th>\n      <td>92077</td>\n      <td>Ville-d'Avray</td>\n      <td>11422</td>\n      <td>57214</td>\n      <td>48.827936</td>\n      <td>2.189424</td>\n    </tr>\n    <tr>\n      <th>28</th>\n      <td>92064</td>\n      <td>Saint-Cloud</td>\n      <td>29362</td>\n      <td>53805</td>\n      <td>48.843741</td>\n      <td>2.219344</td>\n    </tr>\n  </tbody>\n</table>\n</div>", 
                        "text/plain": "    Postal Code       Neighbourhood  Resident Number  Incoming   Latitude  \\\n21        92048  Marnes-la-Coquette             1751     80327  48.829358   \n33        92076          Vaucresson             8688     61973  48.839268   \n25        92060   Neuilly-sur-Seine            60910     57830  48.884683   \n34        92077       Ville-d'Avray            11422     57214  48.827936   \n28        92064         Saint-Cloud            29362     53805  48.843741   \n\n    Longitude  \n21   2.175609  \n33   2.157598  \n25   2.269566  \n34   2.189424  \n28   2.219344  "
                    }, 
                    "output_type": "execute_result"
                }
            ], 
            "source": "df.sort_values(by=\"Incoming\", ascending=False).head(5)"
        }, 
        {
            "execution_count": null, 
            "cell_type": "code", 
            "metadata": {}, 
            "outputs": [], 
            "source": ""
        }
    ], 
    "metadata": {
        "kernelspec": {
            "display_name": "Python 3.5", 
            "name": "python3", 
            "language": "python"
        }, 
        "language_info": {
            "mimetype": "text/x-python", 
            "nbconvert_exporter": "python", 
            "version": "3.5.5", 
            "name": "python", 
            "file_extension": ".py", 
            "pygments_lexer": "ipython3", 
            "codemirror_mode": {
                "version": 3, 
                "name": "ipython"
            }
        }
    }, 
    "nbformat": 4
}