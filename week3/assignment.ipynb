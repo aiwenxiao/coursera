{
 "cells": [
  {
   "cell_type": "markdown",
   "metadata": {},
   "source": [
    "This work is to create a dataframes with the neighbourhood information of Canada extracted, with the beautifulsoup library, from the Wikipedia page: https://en.wikipedia.org/wiki/List_of_postal_codes_of_Canada:_M, and clustered by the postal codes."
   ]
  },
  {
   "cell_type": "code",
   "execution_count": 1,
   "metadata": {
    "scrolled": true
   },
   "outputs": [
    {
     "name": "stdout",
     "output_type": "stream",
     "text": [
      "Requirement already satisfied: beautifulsoup4 in /Users/Pandabaob/anaconda3/lib/python3.7/site-packages (4.7.1)\n",
      "Requirement already satisfied: lxml in /Users/Pandabaob/anaconda3/lib/python3.7/site-packages (4.3.2)\n",
      "Requirement already satisfied: html5lib in /Users/Pandabaob/anaconda3/lib/python3.7/site-packages (1.0.1)\n",
      "Requirement already satisfied: soupsieve>=1.2 in /Users/Pandabaob/anaconda3/lib/python3.7/site-packages (from beautifulsoup4) (1.8)\n",
      "Requirement already satisfied: six>=1.9 in /Users/Pandabaob/anaconda3/lib/python3.7/site-packages (from html5lib) (1.12.0)\n",
      "Requirement already satisfied: webencodings in /Users/Pandabaob/anaconda3/lib/python3.7/site-packages (from html5lib) (0.5.1)\n",
      "Note: you may need to restart the kernel to use updated packages.\n"
     ]
    }
   ],
   "source": [
    "pip install beautifulsoup4 lxml html5lib"
   ]
  },
  {
   "cell_type": "code",
   "execution_count": 2,
   "metadata": {},
   "outputs": [],
   "source": [
    "from bs4 import BeautifulSoup\n",
    "import pandas as pd "
   ]
  },
  {
   "cell_type": "code",
   "execution_count": 3,
   "metadata": {},
   "outputs": [],
   "source": [
    "soup = BeautifulSoup(open(\"./ListPostalCodesCanada.html\"))"
   ]
  },
  {
   "cell_type": "markdown",
   "metadata": {},
   "source": [
    "Here we want to extract the table of the list of postal codes of Canada, so we use the find feature and suppose that the table containing the is the first one of the html page."
   ]
  },
  {
   "cell_type": "code",
   "execution_count": 4,
   "metadata": {},
   "outputs": [],
   "source": [
    "table_tag = soup.find(\"table\")"
   ]
  },
  {
   "cell_type": "markdown",
   "metadata": {},
   "source": [
    "The column labels of the dataframe would be the header of the table."
   ]
  },
  {
   "cell_type": "code",
   "execution_count": 5,
   "metadata": {},
   "outputs": [],
   "source": [
    "labels = []\n",
    "first_tr_tag = table_tag.tr\n",
    "for th_tag in first_tr_tag.find_all(\"th\"):\n",
    "    labels.append(th_tag.string.rstrip())"
   ]
  },
  {
   "cell_type": "markdown",
   "metadata": {},
   "source": [
    "We will add each element of three columns of a row respectively into the lists of postcode, borough and neighbourhood, and create the dataframe from these lists."
   ]
  },
  {
   "cell_type": "code",
   "execution_count": 6,
   "metadata": {},
   "outputs": [],
   "source": [
    "postCodeList = []\n",
    "BoroughList = []\n",
    "NeighbourhoodList = []\n",
    "for tr_tag in first_tr_tag.find_next_siblings(\"tr\"):\n",
    "    postCodeTag = tr_tag.td\n",
    "    postCodeList.append(postCodeTag.string)\n",
    "    BoroughTag = postCodeTag.find_next_sibling(\"td\")\n",
    "    BoroughList.append(BoroughTag.string)\n",
    "    NeighbourhoodTag = BoroughTag.find_next_sibling(\"td\")\n",
    "    for s in NeighbourhoodTag.stripped_strings:\n",
    "        NeighbourhoodTag = s\n",
    "    NeighbourhoodList.append(NeighbourhoodTag)"
   ]
  },
  {
   "cell_type": "code",
   "execution_count": 7,
   "metadata": {},
   "outputs": [],
   "source": [
    "df = pd.DataFrame(list(zip(postCodeList, BoroughList, NeighbourhoodList)), columns =labels) "
   ]
  },
  {
   "cell_type": "code",
   "execution_count": 8,
   "metadata": {},
   "outputs": [],
   "source": [
    "df = df[df.Borough != \"Not assigned\"]"
   ]
  },
  {
   "cell_type": "code",
   "execution_count": 9,
   "metadata": {},
   "outputs": [],
   "source": [
    "for index in df.index[df.Neighbourhood == \"Not assigned\"].tolist():\n",
    "    df.at[index, 'Neighbourhood'] = df.at[index, 'Borough']"
   ]
  },
  {
   "cell_type": "markdown",
   "metadata": {},
   "source": [
    "We suppose that if two rows have the same postcode, they have also the same borough. Then only the elements in the column of the 'Neighbourhood' need to be aggragated."
   ]
  },
  {
   "cell_type": "code",
   "execution_count": 10,
   "metadata": {},
   "outputs": [],
   "source": [
    "df['Neighbourhood'] = df.groupby(['Postcode'])['Neighbourhood'].transform(lambda x: ','.join(x))\n",
    "df = df.drop_duplicates()"
   ]
  },
  {
   "cell_type": "code",
   "execution_count": 11,
   "metadata": {},
   "outputs": [
    {
     "data": {
      "text/plain": [
       "(103, 3)"
      ]
     },
     "execution_count": 11,
     "metadata": {},
     "output_type": "execute_result"
    }
   ],
   "source": [
    "df.shape"
   ]
  },
  {
   "cell_type": "code",
   "execution_count": null,
   "metadata": {},
   "outputs": [],
   "source": []
  }
 ],
 "metadata": {
  "kernelspec": {
   "display_name": "Python 3",
   "language": "python",
   "name": "python3"
  },
  "language_info": {
   "codemirror_mode": {
    "name": "ipython",
    "version": 3
   },
   "file_extension": ".py",
   "mimetype": "text/x-python",
   "name": "python",
   "nbconvert_exporter": "python",
   "pygments_lexer": "ipython3",
   "version": "3.7.3"
  }
 },
 "nbformat": 4,
 "nbformat_minor": 2
}
