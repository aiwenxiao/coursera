{
    "nbformat_minor": 1, 
    "cells": [
        {
            "source": "# The Battle of Neighborhoods - Introduction (Week 1)", 
            "cell_type": "markdown", 
            "metadata": {
                "collapsed": true
            }
        }, 
        {
            "source": "## Background", 
            "cell_type": "markdown", 
            "metadata": {}
        }, 
        {
            "source": "French sticks and pastries are famous all over the world. Meanwhile, France is a big consummator of bread, about 10 000 000 000 French sticks every year. At breakfast, the first thing that you can find is the bread; During dinner, the bread is on the table of 95% of the French people. Even for lunch, a recent BBC news reports that the nation long known for three-course bistro lunches washed down with a glass of red wine is apparently turning to sandwiches, fast food and soft drinks.\n<br/><br/>\nAs a result, bakeries are indispensable in a French neighborhood and it seems to be interesting to open a new bakery. However, there are about 32000 bakeries already in France. Are there still good places to put new bakeries? This is the question we need to address in this project.\n<br/><br/>\nHere, we discuss only the possibility of opening a bakery in the department of Haut-de-Seine to reduce the data amount to anaylize. Same operation could be done for other departments.", 
            "cell_type": "markdown", 
            "metadata": {}
        }, 
        {
            "source": "## Business Problem", 
            "cell_type": "markdown", 
            "metadata": {}
        }, 
        {
            "source": "In order that the location is adapted to the needs, there are several points we need to think about:\n\n1. Area Preferences:<br/>\n   I have been living to the south of Paris for about ten years, and I would like to continue the business in the same department which is **Haut-de-Seine**.<br/>\n<br/>\n* Target Market:<br/>\n   The bakery is intended to offer **high quality food** to **local people**.<br/>\n<br/>\n* Type of Products:<br/>\n   * Pastries and coffe in the morning for the **residents**\n   * Sandwiches and menus during the lunch time for people who **work** or **study** in the surrondings\n   * Baguette and other kinds of bread in the evening for the residents<br/>\n<br/>\n* Competition:<br/>\n   We must make sure that there will be enough potential customers and not too many competitors.\n<br/><br/>\nWith the above considarations, we will need to leverage the Foursquare API and Haut-de-Seine data to determine an appropriate location for the new bakery.<br/>\nThe **target audience** could be someone who would like to open a bakery or even a fast food restaurant near to Paris.", 
            "cell_type": "markdown", 
            "metadata": {}
        }, 
        {
            "execution_count": null, 
            "cell_type": "code", 
            "metadata": {}, 
            "outputs": [], 
            "source": ""
        }
    ], 
    "metadata": {
        "kernelspec": {
            "display_name": "Python 3.5", 
            "name": "python3", 
            "language": "python"
        }, 
        "language_info": {
            "mimetype": "text/x-python", 
            "nbconvert_exporter": "python", 
            "version": "3.5.5", 
            "name": "python", 
            "file_extension": ".py", 
            "pygments_lexer": "ipython3", 
            "codemirror_mode": {
                "version": 3, 
                "name": "ipython"
            }
        }
    }, 
    "nbformat": 4
}