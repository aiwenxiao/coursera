{
    "nbformat_minor": 1, 
    "cells": [
        {
            "source": "# The Battle of Neighborhoods - Introduction (Week 1)", 
            "cell_type": "markdown", 
            "metadata": {
                "collapsed": true
            }
        }, 
        {
            "source": "## Introduction", 
            "cell_type": "markdown", 
            "metadata": {}
        }, 
        {
            "source": "Besides my activity as a software engineer, I have a keen interest in cooking especially baking. And I would like to open a bakery in the near future.<br/>\nThe objectif of the project is to use the power of data analysis to find a ideal location for a new bakery.", 
            "cell_type": "markdown", 
            "metadata": {}
        }, 
        {
            "source": "## Business Problem", 
            "cell_type": "markdown", 
            "metadata": {}
        }, 
        {
            "source": "In order that the location is adapted to the needs, there are several questions we need to adresse:\n\n<u>Area Preferences:</u><br/>\nI have been living to the south of Paris for about ten years, and I would like to continue the business in the same department which is **Haut-de-Seine**.\n\n<u>Target Market:</u><br/>\nThe bakery is intended to offer **high quality food** to **local people**.\n   \n<u>Type of Products:</u><br/>\n* Pastries and coffe in the morning for the **residents**\n* Sandwiches and menus during the lunch time for people who **work** or **study** in the surrondings\n* Baguette and other kinds of bread in the evening for the residents\n\nIn addition, we must make sure that there will be enough potential customers and not too many competitors.", 
            "cell_type": "markdown", 
            "metadata": {}
        }
    ], 
    "metadata": {
        "kernelspec": {
            "display_name": "Python 3.5", 
            "name": "python3", 
            "language": "python"
        }, 
        "language_info": {
            "mimetype": "text/x-python", 
            "nbconvert_exporter": "python", 
            "version": "3.5.5", 
            "name": "python", 
            "file_extension": ".py", 
            "pygments_lexer": "ipython3", 
            "codemirror_mode": {
                "version": 3, 
                "name": "ipython"
            }
        }
    }, 
    "nbformat": 4
}